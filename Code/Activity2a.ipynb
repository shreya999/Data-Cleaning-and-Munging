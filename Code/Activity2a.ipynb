{
 "cells": [
  {
   "cell_type": "code",
   "execution_count": 71,
   "metadata": {
    "collapsed": false
   },
   "outputs": [],
   "source": [
    "library(dplyr)"
   ]
  },
  {
   "cell_type": "code",
   "execution_count": 72,
   "metadata": {
    "collapsed": true
   },
   "outputs": [],
   "source": [
    "library(RSQLite)"
   ]
  },
  {
   "cell_type": "code",
   "execution_count": 73,
   "metadata": {
    "collapsed": true
   },
   "outputs": [],
   "source": [
    "sqlite    <- dbDriver(\"SQLite\")\n",
    "exampledb <- dbConnect(sqlite,\"E:/Semester2/DIC/Projects/Project 2/soccer/database.sqlite\")"
   ]
  },
  {
   "cell_type": "code",
   "execution_count": 74,
   "metadata": {
    "collapsed": false
   },
   "outputs": [
    {
     "data": {
      "text/plain": [
       "<SQLiteConnection>\n",
       "  Path: E:\\Semester2\\DIC\\Projects\\Project 2\\soccer\\database.sqlite\n",
       "  Extensions: TRUE"
      ]
     },
     "metadata": {},
     "output_type": "display_data"
    }
   ],
   "source": [
    "exampledb"
   ]
  },
  {
   "cell_type": "code",
   "execution_count": 75,
   "metadata": {
    "collapsed": false
   },
   "outputs": [
    {
     "data": {
      "text/html": [
       "<ol class=list-inline>\n",
       "\t<li>'Country'</li>\n",
       "\t<li>'League'</li>\n",
       "\t<li>'Match'</li>\n",
       "\t<li>'Player'</li>\n",
       "\t<li>'Player_Attributes'</li>\n",
       "\t<li>'Team'</li>\n",
       "\t<li>'Team_Attributes'</li>\n",
       "\t<li>'combine'</li>\n",
       "\t<li>'sqlite_sequence'</li>\n",
       "</ol>\n"
      ],
      "text/latex": [
       "\\begin{enumerate*}\n",
       "\\item 'Country'\n",
       "\\item 'League'\n",
       "\\item 'Match'\n",
       "\\item 'Player'\n",
       "\\item 'Player\\_Attributes'\n",
       "\\item 'Team'\n",
       "\\item 'Team\\_Attributes'\n",
       "\\item 'combine'\n",
       "\\item 'sqlite\\_sequence'\n",
       "\\end{enumerate*}\n"
      ],
      "text/markdown": [
       "1. 'Country'\n",
       "2. 'League'\n",
       "3. 'Match'\n",
       "4. 'Player'\n",
       "5. 'Player_Attributes'\n",
       "6. 'Team'\n",
       "7. 'Team_Attributes'\n",
       "8. 'combine'\n",
       "9. 'sqlite_sequence'\n",
       "\n",
       "\n"
      ],
      "text/plain": [
       "[1] \"Country\"           \"League\"            \"Match\"            \n",
       "[4] \"Player\"            \"Player_Attributes\" \"Team\"             \n",
       "[7] \"Team_Attributes\"   \"combine\"           \"sqlite_sequence\"  "
      ]
     },
     "metadata": {},
     "output_type": "display_data"
    }
   ],
   "source": [
    "dbListTables(exampledb)"
   ]
  },
  {
   "cell_type": "code",
   "execution_count": 76,
   "metadata": {
    "collapsed": false
   },
   "outputs": [
    {
     "data": {
      "text/html": [
       "<ol class=list-inline>\n",
       "\t<li>'id'</li>\n",
       "\t<li>'player_api_id'</li>\n",
       "\t<li>'player_name'</li>\n",
       "\t<li>'player_fifa_api_id'</li>\n",
       "\t<li>'birthday'</li>\n",
       "\t<li>'height'</li>\n",
       "\t<li>'weight'</li>\n",
       "</ol>\n"
      ],
      "text/latex": [
       "\\begin{enumerate*}\n",
       "\\item 'id'\n",
       "\\item 'player\\_api\\_id'\n",
       "\\item 'player\\_name'\n",
       "\\item 'player\\_fifa\\_api\\_id'\n",
       "\\item 'birthday'\n",
       "\\item 'height'\n",
       "\\item 'weight'\n",
       "\\end{enumerate*}\n"
      ],
      "text/markdown": [
       "1. 'id'\n",
       "2. 'player_api_id'\n",
       "3. 'player_name'\n",
       "4. 'player_fifa_api_id'\n",
       "5. 'birthday'\n",
       "6. 'height'\n",
       "7. 'weight'\n",
       "\n",
       "\n"
      ],
      "text/plain": [
       "[1] \"id\"                 \"player_api_id\"      \"player_name\"       \n",
       "[4] \"player_fifa_api_id\" \"birthday\"           \"height\"            \n",
       "[7] \"weight\"            "
      ]
     },
     "metadata": {},
     "output_type": "display_data"
    }
   ],
   "source": [
    "dbListFields(exampledb, \"Player\")"
   ]
  },
  {
   "cell_type": "code",
   "execution_count": 77,
   "metadata": {
    "collapsed": false
   },
   "outputs": [
    {
     "data": {
      "text/html": [
       "<ol class=list-inline>\n",
       "\t<li>'id'</li>\n",
       "\t<li>'player_fifa_api_id'</li>\n",
       "\t<li>'player_api_id'</li>\n",
       "\t<li>'date'</li>\n",
       "\t<li>'overall_rating'</li>\n",
       "\t<li>'potential'</li>\n",
       "\t<li>'preferred_foot'</li>\n",
       "\t<li>'attacking_work_rate'</li>\n",
       "\t<li>'defensive_work_rate'</li>\n",
       "\t<li>'crossing'</li>\n",
       "\t<li>'finishing'</li>\n",
       "\t<li>'heading_accuracy'</li>\n",
       "\t<li>'short_passing'</li>\n",
       "\t<li>'volleys'</li>\n",
       "\t<li>'dribbling'</li>\n",
       "\t<li>'curve'</li>\n",
       "\t<li>'free_kick_accuracy'</li>\n",
       "\t<li>'long_passing'</li>\n",
       "\t<li>'ball_control'</li>\n",
       "\t<li>'acceleration'</li>\n",
       "\t<li>'sprint_speed'</li>\n",
       "\t<li>'agility'</li>\n",
       "\t<li>'reactions'</li>\n",
       "\t<li>'balance'</li>\n",
       "\t<li>'shot_power'</li>\n",
       "\t<li>'jumping'</li>\n",
       "\t<li>'stamina'</li>\n",
       "\t<li>'strength'</li>\n",
       "\t<li>'long_shots'</li>\n",
       "\t<li>'aggression'</li>\n",
       "\t<li>'interceptions'</li>\n",
       "\t<li>'positioning'</li>\n",
       "\t<li>'vision'</li>\n",
       "\t<li>'penalties'</li>\n",
       "\t<li>'marking'</li>\n",
       "\t<li>'standing_tackle'</li>\n",
       "\t<li>'sliding_tackle'</li>\n",
       "\t<li>'gk_diving'</li>\n",
       "\t<li>'gk_handling'</li>\n",
       "\t<li>'gk_kicking'</li>\n",
       "\t<li>'gk_positioning'</li>\n",
       "\t<li>'gk_reflexes'</li>\n",
       "</ol>\n"
      ],
      "text/latex": [
       "\\begin{enumerate*}\n",
       "\\item 'id'\n",
       "\\item 'player\\_fifa\\_api\\_id'\n",
       "\\item 'player\\_api\\_id'\n",
       "\\item 'date'\n",
       "\\item 'overall\\_rating'\n",
       "\\item 'potential'\n",
       "\\item 'preferred\\_foot'\n",
       "\\item 'attacking\\_work\\_rate'\n",
       "\\item 'defensive\\_work\\_rate'\n",
       "\\item 'crossing'\n",
       "\\item 'finishing'\n",
       "\\item 'heading\\_accuracy'\n",
       "\\item 'short\\_passing'\n",
       "\\item 'volleys'\n",
       "\\item 'dribbling'\n",
       "\\item 'curve'\n",
       "\\item 'free\\_kick\\_accuracy'\n",
       "\\item 'long\\_passing'\n",
       "\\item 'ball\\_control'\n",
       "\\item 'acceleration'\n",
       "\\item 'sprint\\_speed'\n",
       "\\item 'agility'\n",
       "\\item 'reactions'\n",
       "\\item 'balance'\n",
       "\\item 'shot\\_power'\n",
       "\\item 'jumping'\n",
       "\\item 'stamina'\n",
       "\\item 'strength'\n",
       "\\item 'long\\_shots'\n",
       "\\item 'aggression'\n",
       "\\item 'interceptions'\n",
       "\\item 'positioning'\n",
       "\\item 'vision'\n",
       "\\item 'penalties'\n",
       "\\item 'marking'\n",
       "\\item 'standing\\_tackle'\n",
       "\\item 'sliding\\_tackle'\n",
       "\\item 'gk\\_diving'\n",
       "\\item 'gk\\_handling'\n",
       "\\item 'gk\\_kicking'\n",
       "\\item 'gk\\_positioning'\n",
       "\\item 'gk\\_reflexes'\n",
       "\\end{enumerate*}\n"
      ],
      "text/markdown": [
       "1. 'id'\n",
       "2. 'player_fifa_api_id'\n",
       "3. 'player_api_id'\n",
       "4. 'date'\n",
       "5. 'overall_rating'\n",
       "6. 'potential'\n",
       "7. 'preferred_foot'\n",
       "8. 'attacking_work_rate'\n",
       "9. 'defensive_work_rate'\n",
       "10. 'crossing'\n",
       "11. 'finishing'\n",
       "12. 'heading_accuracy'\n",
       "13. 'short_passing'\n",
       "14. 'volleys'\n",
       "15. 'dribbling'\n",
       "16. 'curve'\n",
       "17. 'free_kick_accuracy'\n",
       "18. 'long_passing'\n",
       "19. 'ball_control'\n",
       "20. 'acceleration'\n",
       "21. 'sprint_speed'\n",
       "22. 'agility'\n",
       "23. 'reactions'\n",
       "24. 'balance'\n",
       "25. 'shot_power'\n",
       "26. 'jumping'\n",
       "27. 'stamina'\n",
       "28. 'strength'\n",
       "29. 'long_shots'\n",
       "30. 'aggression'\n",
       "31. 'interceptions'\n",
       "32. 'positioning'\n",
       "33. 'vision'\n",
       "34. 'penalties'\n",
       "35. 'marking'\n",
       "36. 'standing_tackle'\n",
       "37. 'sliding_tackle'\n",
       "38. 'gk_diving'\n",
       "39. 'gk_handling'\n",
       "40. 'gk_kicking'\n",
       "41. 'gk_positioning'\n",
       "42. 'gk_reflexes'\n",
       "\n",
       "\n"
      ],
      "text/plain": [
       " [1] \"id\"                  \"player_fifa_api_id\"  \"player_api_id\"      \n",
       " [4] \"date\"                \"overall_rating\"      \"potential\"          \n",
       " [7] \"preferred_foot\"      \"attacking_work_rate\" \"defensive_work_rate\"\n",
       "[10] \"crossing\"            \"finishing\"           \"heading_accuracy\"   \n",
       "[13] \"short_passing\"       \"volleys\"             \"dribbling\"          \n",
       "[16] \"curve\"               \"free_kick_accuracy\"  \"long_passing\"       \n",
       "[19] \"ball_control\"        \"acceleration\"        \"sprint_speed\"       \n",
       "[22] \"agility\"             \"reactions\"           \"balance\"            \n",
       "[25] \"shot_power\"          \"jumping\"             \"stamina\"            \n",
       "[28] \"strength\"            \"long_shots\"          \"aggression\"         \n",
       "[31] \"interceptions\"       \"positioning\"         \"vision\"             \n",
       "[34] \"penalties\"           \"marking\"             \"standing_tackle\"    \n",
       "[37] \"sliding_tackle\"      \"gk_diving\"           \"gk_handling\"        \n",
       "[40] \"gk_kicking\"          \"gk_positioning\"      \"gk_reflexes\"        "
      ]
     },
     "metadata": {},
     "output_type": "display_data"
    }
   ],
   "source": [
    "dbListFields(exampledb, \"Player_Attributes\")"
   ]
  },
  {
   "cell_type": "code",
   "execution_count": 78,
   "metadata": {
    "collapsed": false
   },
   "outputs": [
    {
     "data": {
      "text/html": [
       "<ol class=list-inline>\n",
       "\t<li>'id'</li>\n",
       "\t<li>'country_id'</li>\n",
       "\t<li>'league_id'</li>\n",
       "\t<li>'season'</li>\n",
       "\t<li>'stage'</li>\n",
       "\t<li>'date'</li>\n",
       "\t<li>'match_api_id'</li>\n",
       "\t<li>'home_team_api_id'</li>\n",
       "\t<li>'away_team_api_id'</li>\n",
       "\t<li>'home_team_goal'</li>\n",
       "\t<li>'away_team_goal'</li>\n",
       "\t<li>'home_player_X1'</li>\n",
       "\t<li>'home_player_X2'</li>\n",
       "\t<li>'home_player_X3'</li>\n",
       "\t<li>'home_player_X4'</li>\n",
       "\t<li>'home_player_X5'</li>\n",
       "\t<li>'home_player_X6'</li>\n",
       "\t<li>'home_player_X7'</li>\n",
       "\t<li>'home_player_X8'</li>\n",
       "\t<li>'home_player_X9'</li>\n",
       "\t<li>'home_player_X10'</li>\n",
       "\t<li>'home_player_X11'</li>\n",
       "\t<li>'away_player_X1'</li>\n",
       "\t<li>'away_player_X2'</li>\n",
       "\t<li>'away_player_X3'</li>\n",
       "\t<li>'away_player_X4'</li>\n",
       "\t<li>'away_player_X5'</li>\n",
       "\t<li>'away_player_X6'</li>\n",
       "\t<li>'away_player_X7'</li>\n",
       "\t<li>'away_player_X8'</li>\n",
       "\t<li>'away_player_X9'</li>\n",
       "\t<li>'away_player_X10'</li>\n",
       "\t<li>'away_player_X11'</li>\n",
       "\t<li>'home_player_Y1'</li>\n",
       "\t<li>'home_player_Y2'</li>\n",
       "\t<li>'home_player_Y3'</li>\n",
       "\t<li>'home_player_Y4'</li>\n",
       "\t<li>'home_player_Y5'</li>\n",
       "\t<li>'home_player_Y6'</li>\n",
       "\t<li>'home_player_Y7'</li>\n",
       "\t<li>'home_player_Y8'</li>\n",
       "\t<li>'home_player_Y9'</li>\n",
       "\t<li>'home_player_Y10'</li>\n",
       "\t<li>'home_player_Y11'</li>\n",
       "\t<li>'away_player_Y1'</li>\n",
       "\t<li>'away_player_Y2'</li>\n",
       "\t<li>'away_player_Y3'</li>\n",
       "\t<li>'away_player_Y4'</li>\n",
       "\t<li>'away_player_Y5'</li>\n",
       "\t<li>'away_player_Y6'</li>\n",
       "\t<li>'away_player_Y7'</li>\n",
       "\t<li>'away_player_Y8'</li>\n",
       "\t<li>'away_player_Y9'</li>\n",
       "\t<li>'away_player_Y10'</li>\n",
       "\t<li>'away_player_Y11'</li>\n",
       "\t<li>'home_player_1'</li>\n",
       "\t<li>'home_player_2'</li>\n",
       "\t<li>'home_player_3'</li>\n",
       "\t<li>'home_player_4'</li>\n",
       "\t<li>'home_player_5'</li>\n",
       "\t<li>'home_player_6'</li>\n",
       "\t<li>'home_player_7'</li>\n",
       "\t<li>'home_player_8'</li>\n",
       "\t<li>'home_player_9'</li>\n",
       "\t<li>'home_player_10'</li>\n",
       "\t<li>'home_player_11'</li>\n",
       "\t<li>'away_player_1'</li>\n",
       "\t<li>'away_player_2'</li>\n",
       "\t<li>'away_player_3'</li>\n",
       "\t<li>'away_player_4'</li>\n",
       "\t<li>'away_player_5'</li>\n",
       "\t<li>'away_player_6'</li>\n",
       "\t<li>'away_player_7'</li>\n",
       "\t<li>'away_player_8'</li>\n",
       "\t<li>'away_player_9'</li>\n",
       "\t<li>'away_player_10'</li>\n",
       "\t<li>'away_player_11'</li>\n",
       "\t<li>'goal'</li>\n",
       "\t<li>'shoton'</li>\n",
       "\t<li>'shotoff'</li>\n",
       "\t<li>'foulcommit'</li>\n",
       "\t<li>'card'</li>\n",
       "\t<li>'cross'</li>\n",
       "\t<li>'corner'</li>\n",
       "\t<li>'possession'</li>\n",
       "\t<li>'B365H'</li>\n",
       "\t<li>'B365D'</li>\n",
       "\t<li>'B365A'</li>\n",
       "\t<li>'BWH'</li>\n",
       "\t<li>'BWD'</li>\n",
       "\t<li>'BWA'</li>\n",
       "\t<li>'IWH'</li>\n",
       "\t<li>'IWD'</li>\n",
       "\t<li>'IWA'</li>\n",
       "\t<li>'LBH'</li>\n",
       "\t<li>'LBD'</li>\n",
       "\t<li>'LBA'</li>\n",
       "\t<li>'PSH'</li>\n",
       "\t<li>'PSD'</li>\n",
       "\t<li>'PSA'</li>\n",
       "\t<li>'WHH'</li>\n",
       "\t<li>'WHD'</li>\n",
       "\t<li>'WHA'</li>\n",
       "\t<li>'SJH'</li>\n",
       "\t<li>'SJD'</li>\n",
       "\t<li>'SJA'</li>\n",
       "\t<li>'VCH'</li>\n",
       "\t<li>'VCD'</li>\n",
       "\t<li>'VCA'</li>\n",
       "\t<li>'GBH'</li>\n",
       "\t<li>'GBD'</li>\n",
       "\t<li>'GBA'</li>\n",
       "\t<li>'BSH'</li>\n",
       "\t<li>'BSD'</li>\n",
       "\t<li>'BSA'</li>\n",
       "</ol>\n"
      ],
      "text/latex": [
       "\\begin{enumerate*}\n",
       "\\item 'id'\n",
       "\\item 'country\\_id'\n",
       "\\item 'league\\_id'\n",
       "\\item 'season'\n",
       "\\item 'stage'\n",
       "\\item 'date'\n",
       "\\item 'match\\_api\\_id'\n",
       "\\item 'home\\_team\\_api\\_id'\n",
       "\\item 'away\\_team\\_api\\_id'\n",
       "\\item 'home\\_team\\_goal'\n",
       "\\item 'away\\_team\\_goal'\n",
       "\\item 'home\\_player\\_X1'\n",
       "\\item 'home\\_player\\_X2'\n",
       "\\item 'home\\_player\\_X3'\n",
       "\\item 'home\\_player\\_X4'\n",
       "\\item 'home\\_player\\_X5'\n",
       "\\item 'home\\_player\\_X6'\n",
       "\\item 'home\\_player\\_X7'\n",
       "\\item 'home\\_player\\_X8'\n",
       "\\item 'home\\_player\\_X9'\n",
       "\\item 'home\\_player\\_X10'\n",
       "\\item 'home\\_player\\_X11'\n",
       "\\item 'away\\_player\\_X1'\n",
       "\\item 'away\\_player\\_X2'\n",
       "\\item 'away\\_player\\_X3'\n",
       "\\item 'away\\_player\\_X4'\n",
       "\\item 'away\\_player\\_X5'\n",
       "\\item 'away\\_player\\_X6'\n",
       "\\item 'away\\_player\\_X7'\n",
       "\\item 'away\\_player\\_X8'\n",
       "\\item 'away\\_player\\_X9'\n",
       "\\item 'away\\_player\\_X10'\n",
       "\\item 'away\\_player\\_X11'\n",
       "\\item 'home\\_player\\_Y1'\n",
       "\\item 'home\\_player\\_Y2'\n",
       "\\item 'home\\_player\\_Y3'\n",
       "\\item 'home\\_player\\_Y4'\n",
       "\\item 'home\\_player\\_Y5'\n",
       "\\item 'home\\_player\\_Y6'\n",
       "\\item 'home\\_player\\_Y7'\n",
       "\\item 'home\\_player\\_Y8'\n",
       "\\item 'home\\_player\\_Y9'\n",
       "\\item 'home\\_player\\_Y10'\n",
       "\\item 'home\\_player\\_Y11'\n",
       "\\item 'away\\_player\\_Y1'\n",
       "\\item 'away\\_player\\_Y2'\n",
       "\\item 'away\\_player\\_Y3'\n",
       "\\item 'away\\_player\\_Y4'\n",
       "\\item 'away\\_player\\_Y5'\n",
       "\\item 'away\\_player\\_Y6'\n",
       "\\item 'away\\_player\\_Y7'\n",
       "\\item 'away\\_player\\_Y8'\n",
       "\\item 'away\\_player\\_Y9'\n",
       "\\item 'away\\_player\\_Y10'\n",
       "\\item 'away\\_player\\_Y11'\n",
       "\\item 'home\\_player\\_1'\n",
       "\\item 'home\\_player\\_2'\n",
       "\\item 'home\\_player\\_3'\n",
       "\\item 'home\\_player\\_4'\n",
       "\\item 'home\\_player\\_5'\n",
       "\\item 'home\\_player\\_6'\n",
       "\\item 'home\\_player\\_7'\n",
       "\\item 'home\\_player\\_8'\n",
       "\\item 'home\\_player\\_9'\n",
       "\\item 'home\\_player\\_10'\n",
       "\\item 'home\\_player\\_11'\n",
       "\\item 'away\\_player\\_1'\n",
       "\\item 'away\\_player\\_2'\n",
       "\\item 'away\\_player\\_3'\n",
       "\\item 'away\\_player\\_4'\n",
       "\\item 'away\\_player\\_5'\n",
       "\\item 'away\\_player\\_6'\n",
       "\\item 'away\\_player\\_7'\n",
       "\\item 'away\\_player\\_8'\n",
       "\\item 'away\\_player\\_9'\n",
       "\\item 'away\\_player\\_10'\n",
       "\\item 'away\\_player\\_11'\n",
       "\\item 'goal'\n",
       "\\item 'shoton'\n",
       "\\item 'shotoff'\n",
       "\\item 'foulcommit'\n",
       "\\item 'card'\n",
       "\\item 'cross'\n",
       "\\item 'corner'\n",
       "\\item 'possession'\n",
       "\\item 'B365H'\n",
       "\\item 'B365D'\n",
       "\\item 'B365A'\n",
       "\\item 'BWH'\n",
       "\\item 'BWD'\n",
       "\\item 'BWA'\n",
       "\\item 'IWH'\n",
       "\\item 'IWD'\n",
       "\\item 'IWA'\n",
       "\\item 'LBH'\n",
       "\\item 'LBD'\n",
       "\\item 'LBA'\n",
       "\\item 'PSH'\n",
       "\\item 'PSD'\n",
       "\\item 'PSA'\n",
       "\\item 'WHH'\n",
       "\\item 'WHD'\n",
       "\\item 'WHA'\n",
       "\\item 'SJH'\n",
       "\\item 'SJD'\n",
       "\\item 'SJA'\n",
       "\\item 'VCH'\n",
       "\\item 'VCD'\n",
       "\\item 'VCA'\n",
       "\\item 'GBH'\n",
       "\\item 'GBD'\n",
       "\\item 'GBA'\n",
       "\\item 'BSH'\n",
       "\\item 'BSD'\n",
       "\\item 'BSA'\n",
       "\\end{enumerate*}\n"
      ],
      "text/markdown": [
       "1. 'id'\n",
       "2. 'country_id'\n",
       "3. 'league_id'\n",
       "4. 'season'\n",
       "5. 'stage'\n",
       "6. 'date'\n",
       "7. 'match_api_id'\n",
       "8. 'home_team_api_id'\n",
       "9. 'away_team_api_id'\n",
       "10. 'home_team_goal'\n",
       "11. 'away_team_goal'\n",
       "12. 'home_player_X1'\n",
       "13. 'home_player_X2'\n",
       "14. 'home_player_X3'\n",
       "15. 'home_player_X4'\n",
       "16. 'home_player_X5'\n",
       "17. 'home_player_X6'\n",
       "18. 'home_player_X7'\n",
       "19. 'home_player_X8'\n",
       "20. 'home_player_X9'\n",
       "21. 'home_player_X10'\n",
       "22. 'home_player_X11'\n",
       "23. 'away_player_X1'\n",
       "24. 'away_player_X2'\n",
       "25. 'away_player_X3'\n",
       "26. 'away_player_X4'\n",
       "27. 'away_player_X5'\n",
       "28. 'away_player_X6'\n",
       "29. 'away_player_X7'\n",
       "30. 'away_player_X8'\n",
       "31. 'away_player_X9'\n",
       "32. 'away_player_X10'\n",
       "33. 'away_player_X11'\n",
       "34. 'home_player_Y1'\n",
       "35. 'home_player_Y2'\n",
       "36. 'home_player_Y3'\n",
       "37. 'home_player_Y4'\n",
       "38. 'home_player_Y5'\n",
       "39. 'home_player_Y6'\n",
       "40. 'home_player_Y7'\n",
       "41. 'home_player_Y8'\n",
       "42. 'home_player_Y9'\n",
       "43. 'home_player_Y10'\n",
       "44. 'home_player_Y11'\n",
       "45. 'away_player_Y1'\n",
       "46. 'away_player_Y2'\n",
       "47. 'away_player_Y3'\n",
       "48. 'away_player_Y4'\n",
       "49. 'away_player_Y5'\n",
       "50. 'away_player_Y6'\n",
       "51. 'away_player_Y7'\n",
       "52. 'away_player_Y8'\n",
       "53. 'away_player_Y9'\n",
       "54. 'away_player_Y10'\n",
       "55. 'away_player_Y11'\n",
       "56. 'home_player_1'\n",
       "57. 'home_player_2'\n",
       "58. 'home_player_3'\n",
       "59. 'home_player_4'\n",
       "60. 'home_player_5'\n",
       "61. 'home_player_6'\n",
       "62. 'home_player_7'\n",
       "63. 'home_player_8'\n",
       "64. 'home_player_9'\n",
       "65. 'home_player_10'\n",
       "66. 'home_player_11'\n",
       "67. 'away_player_1'\n",
       "68. 'away_player_2'\n",
       "69. 'away_player_3'\n",
       "70. 'away_player_4'\n",
       "71. 'away_player_5'\n",
       "72. 'away_player_6'\n",
       "73. 'away_player_7'\n",
       "74. 'away_player_8'\n",
       "75. 'away_player_9'\n",
       "76. 'away_player_10'\n",
       "77. 'away_player_11'\n",
       "78. 'goal'\n",
       "79. 'shoton'\n",
       "80. 'shotoff'\n",
       "81. 'foulcommit'\n",
       "82. 'card'\n",
       "83. 'cross'\n",
       "84. 'corner'\n",
       "85. 'possession'\n",
       "86. 'B365H'\n",
       "87. 'B365D'\n",
       "88. 'B365A'\n",
       "89. 'BWH'\n",
       "90. 'BWD'\n",
       "91. 'BWA'\n",
       "92. 'IWH'\n",
       "93. 'IWD'\n",
       "94. 'IWA'\n",
       "95. 'LBH'\n",
       "96. 'LBD'\n",
       "97. 'LBA'\n",
       "98. 'PSH'\n",
       "99. 'PSD'\n",
       "100. 'PSA'\n",
       "101. 'WHH'\n",
       "102. 'WHD'\n",
       "103. 'WHA'\n",
       "104. 'SJH'\n",
       "105. 'SJD'\n",
       "106. 'SJA'\n",
       "107. 'VCH'\n",
       "108. 'VCD'\n",
       "109. 'VCA'\n",
       "110. 'GBH'\n",
       "111. 'GBD'\n",
       "112. 'GBA'\n",
       "113. 'BSH'\n",
       "114. 'BSD'\n",
       "115. 'BSA'\n",
       "\n",
       "\n"
      ],
      "text/plain": [
       "  [1] \"id\"               \"country_id\"       \"league_id\"       \n",
       "  [4] \"season\"           \"stage\"            \"date\"            \n",
       "  [7] \"match_api_id\"     \"home_team_api_id\" \"away_team_api_id\"\n",
       " [10] \"home_team_goal\"   \"away_team_goal\"   \"home_player_X1\"  \n",
       " [13] \"home_player_X2\"   \"home_player_X3\"   \"home_player_X4\"  \n",
       " [16] \"home_player_X5\"   \"home_player_X6\"   \"home_player_X7\"  \n",
       " [19] \"home_player_X8\"   \"home_player_X9\"   \"home_player_X10\" \n",
       " [22] \"home_player_X11\"  \"away_player_X1\"   \"away_player_X2\"  \n",
       " [25] \"away_player_X3\"   \"away_player_X4\"   \"away_player_X5\"  \n",
       " [28] \"away_player_X6\"   \"away_player_X7\"   \"away_player_X8\"  \n",
       " [31] \"away_player_X9\"   \"away_player_X10\"  \"away_player_X11\" \n",
       " [34] \"home_player_Y1\"   \"home_player_Y2\"   \"home_player_Y3\"  \n",
       " [37] \"home_player_Y4\"   \"home_player_Y5\"   \"home_player_Y6\"  \n",
       " [40] \"home_player_Y7\"   \"home_player_Y8\"   \"home_player_Y9\"  \n",
       " [43] \"home_player_Y10\"  \"home_player_Y11\"  \"away_player_Y1\"  \n",
       " [46] \"away_player_Y2\"   \"away_player_Y3\"   \"away_player_Y4\"  \n",
       " [49] \"away_player_Y5\"   \"away_player_Y6\"   \"away_player_Y7\"  \n",
       " [52] \"away_player_Y8\"   \"away_player_Y9\"   \"away_player_Y10\" \n",
       " [55] \"away_player_Y11\"  \"home_player_1\"    \"home_player_2\"   \n",
       " [58] \"home_player_3\"    \"home_player_4\"    \"home_player_5\"   \n",
       " [61] \"home_player_6\"    \"home_player_7\"    \"home_player_8\"   \n",
       " [64] \"home_player_9\"    \"home_player_10\"   \"home_player_11\"  \n",
       " [67] \"away_player_1\"    \"away_player_2\"    \"away_player_3\"   \n",
       " [70] \"away_player_4\"    \"away_player_5\"    \"away_player_6\"   \n",
       " [73] \"away_player_7\"    \"away_player_8\"    \"away_player_9\"   \n",
       " [76] \"away_player_10\"   \"away_player_11\"   \"goal\"            \n",
       " [79] \"shoton\"           \"shotoff\"          \"foulcommit\"      \n",
       " [82] \"card\"             \"cross\"            \"corner\"          \n",
       " [85] \"possession\"       \"B365H\"            \"B365D\"           \n",
       " [88] \"B365A\"            \"BWH\"              \"BWD\"             \n",
       " [91] \"BWA\"              \"IWH\"              \"IWD\"             \n",
       " [94] \"IWA\"              \"LBH\"              \"LBD\"             \n",
       " [97] \"LBA\"              \"PSH\"              \"PSD\"             \n",
       "[100] \"PSA\"              \"WHH\"              \"WHD\"             \n",
       "[103] \"WHA\"              \"SJH\"              \"SJD\"             \n",
       "[106] \"SJA\"              \"VCH\"              \"VCD\"             \n",
       "[109] \"VCA\"              \"GBH\"              \"GBD\"             \n",
       "[112] \"GBA\"              \"BSH\"              \"BSD\"             \n",
       "[115] \"BSA\"             "
      ]
     },
     "metadata": {},
     "output_type": "display_data"
    }
   ],
   "source": [
    "dbListFields(exampledb, \"Match\")"
   ]
  },
  {
   "cell_type": "code",
   "execution_count": 79,
   "metadata": {
    "collapsed": false
   },
   "outputs": [
    {
     "data": {
      "text/html": [
       "<ol class=list-inline>\n",
       "\t<li>'id'</li>\n",
       "\t<li>'country_id'</li>\n",
       "\t<li>'name'</li>\n",
       "</ol>\n"
      ],
      "text/latex": [
       "\\begin{enumerate*}\n",
       "\\item 'id'\n",
       "\\item 'country\\_id'\n",
       "\\item 'name'\n",
       "\\end{enumerate*}\n"
      ],
      "text/markdown": [
       "1. 'id'\n",
       "2. 'country_id'\n",
       "3. 'name'\n",
       "\n",
       "\n"
      ],
      "text/plain": [
       "[1] \"id\"         \"country_id\" \"name\"      "
      ]
     },
     "metadata": {},
     "output_type": "display_data"
    }
   ],
   "source": [
    "dbListFields(exampledb, \"League\")"
   ]
  },
  {
   "cell_type": "code",
   "execution_count": 80,
   "metadata": {
    "collapsed": false
   },
   "outputs": [
    {
     "data": {
      "text/html": [
       "<ol class=list-inline>\n",
       "\t<li>'name'</li>\n",
       "\t<li>'seq'</li>\n",
       "</ol>\n"
      ],
      "text/latex": [
       "\\begin{enumerate*}\n",
       "\\item 'name'\n",
       "\\item 'seq'\n",
       "\\end{enumerate*}\n"
      ],
      "text/markdown": [
       "1. 'name'\n",
       "2. 'seq'\n",
       "\n",
       "\n"
      ],
      "text/plain": [
       "[1] \"name\" \"seq\" "
      ]
     },
     "metadata": {},
     "output_type": "display_data"
    }
   ],
   "source": [
    "dbListFields(exampledb, \"sqlite_sequence\")"
   ]
  },
  {
   "cell_type": "code",
   "execution_count": 81,
   "metadata": {
    "collapsed": false
   },
   "outputs": [
    {
     "data": {
      "text/html": [
       "<ol class=list-inline>\n",
       "\t<li>'id'</li>\n",
       "\t<li>'team_api_id'</li>\n",
       "\t<li>'team_fifa_api_id'</li>\n",
       "\t<li>'team_long_name'</li>\n",
       "\t<li>'team_short_name'</li>\n",
       "</ol>\n"
      ],
      "text/latex": [
       "\\begin{enumerate*}\n",
       "\\item 'id'\n",
       "\\item 'team\\_api\\_id'\n",
       "\\item 'team\\_fifa\\_api\\_id'\n",
       "\\item 'team\\_long\\_name'\n",
       "\\item 'team\\_short\\_name'\n",
       "\\end{enumerate*}\n"
      ],
      "text/markdown": [
       "1. 'id'\n",
       "2. 'team_api_id'\n",
       "3. 'team_fifa_api_id'\n",
       "4. 'team_long_name'\n",
       "5. 'team_short_name'\n",
       "\n",
       "\n"
      ],
      "text/plain": [
       "[1] \"id\"               \"team_api_id\"      \"team_fifa_api_id\" \"team_long_name\"  \n",
       "[5] \"team_short_name\" "
      ]
     },
     "metadata": {},
     "output_type": "display_data"
    }
   ],
   "source": [
    "dbListFields(exampledb, \"Team\")"
   ]
  },
  {
   "cell_type": "code",
   "execution_count": 82,
   "metadata": {
    "collapsed": false,
    "scrolled": true
   },
   "outputs": [
    {
     "data": {
      "text/html": [
       "<ol class=list-inline>\n",
       "\t<li>'id'</li>\n",
       "\t<li>'team_fifa_api_id'</li>\n",
       "\t<li>'team_api_id'</li>\n",
       "\t<li>'date'</li>\n",
       "\t<li>'buildUpPlaySpeed'</li>\n",
       "\t<li>'buildUpPlaySpeedClass'</li>\n",
       "\t<li>'buildUpPlayDribbling'</li>\n",
       "\t<li>'buildUpPlayDribblingClass'</li>\n",
       "\t<li>'buildUpPlayPassing'</li>\n",
       "\t<li>'buildUpPlayPassingClass'</li>\n",
       "\t<li>'buildUpPlayPositioningClass'</li>\n",
       "\t<li>'chanceCreationPassing'</li>\n",
       "\t<li>'chanceCreationPassingClass'</li>\n",
       "\t<li>'chanceCreationCrossing'</li>\n",
       "\t<li>'chanceCreationCrossingClass'</li>\n",
       "\t<li>'chanceCreationShooting'</li>\n",
       "\t<li>'chanceCreationShootingClass'</li>\n",
       "\t<li>'chanceCreationPositioningClass'</li>\n",
       "\t<li>'defencePressure'</li>\n",
       "\t<li>'defencePressureClass'</li>\n",
       "\t<li>'defenceAggression'</li>\n",
       "\t<li>'defenceAggressionClass'</li>\n",
       "\t<li>'defenceTeamWidth'</li>\n",
       "\t<li>'defenceTeamWidthClass'</li>\n",
       "\t<li>'defenceDefenderLineClass'</li>\n",
       "</ol>\n"
      ],
      "text/latex": [
       "\\begin{enumerate*}\n",
       "\\item 'id'\n",
       "\\item 'team\\_fifa\\_api\\_id'\n",
       "\\item 'team\\_api\\_id'\n",
       "\\item 'date'\n",
       "\\item 'buildUpPlaySpeed'\n",
       "\\item 'buildUpPlaySpeedClass'\n",
       "\\item 'buildUpPlayDribbling'\n",
       "\\item 'buildUpPlayDribblingClass'\n",
       "\\item 'buildUpPlayPassing'\n",
       "\\item 'buildUpPlayPassingClass'\n",
       "\\item 'buildUpPlayPositioningClass'\n",
       "\\item 'chanceCreationPassing'\n",
       "\\item 'chanceCreationPassingClass'\n",
       "\\item 'chanceCreationCrossing'\n",
       "\\item 'chanceCreationCrossingClass'\n",
       "\\item 'chanceCreationShooting'\n",
       "\\item 'chanceCreationShootingClass'\n",
       "\\item 'chanceCreationPositioningClass'\n",
       "\\item 'defencePressure'\n",
       "\\item 'defencePressureClass'\n",
       "\\item 'defenceAggression'\n",
       "\\item 'defenceAggressionClass'\n",
       "\\item 'defenceTeamWidth'\n",
       "\\item 'defenceTeamWidthClass'\n",
       "\\item 'defenceDefenderLineClass'\n",
       "\\end{enumerate*}\n"
      ],
      "text/markdown": [
       "1. 'id'\n",
       "2. 'team_fifa_api_id'\n",
       "3. 'team_api_id'\n",
       "4. 'date'\n",
       "5. 'buildUpPlaySpeed'\n",
       "6. 'buildUpPlaySpeedClass'\n",
       "7. 'buildUpPlayDribbling'\n",
       "8. 'buildUpPlayDribblingClass'\n",
       "9. 'buildUpPlayPassing'\n",
       "10. 'buildUpPlayPassingClass'\n",
       "11. 'buildUpPlayPositioningClass'\n",
       "12. 'chanceCreationPassing'\n",
       "13. 'chanceCreationPassingClass'\n",
       "14. 'chanceCreationCrossing'\n",
       "15. 'chanceCreationCrossingClass'\n",
       "16. 'chanceCreationShooting'\n",
       "17. 'chanceCreationShootingClass'\n",
       "18. 'chanceCreationPositioningClass'\n",
       "19. 'defencePressure'\n",
       "20. 'defencePressureClass'\n",
       "21. 'defenceAggression'\n",
       "22. 'defenceAggressionClass'\n",
       "23. 'defenceTeamWidth'\n",
       "24. 'defenceTeamWidthClass'\n",
       "25. 'defenceDefenderLineClass'\n",
       "\n",
       "\n"
      ],
      "text/plain": [
       " [1] \"id\"                             \"team_fifa_api_id\"              \n",
       " [3] \"team_api_id\"                    \"date\"                          \n",
       " [5] \"buildUpPlaySpeed\"               \"buildUpPlaySpeedClass\"         \n",
       " [7] \"buildUpPlayDribbling\"           \"buildUpPlayDribblingClass\"     \n",
       " [9] \"buildUpPlayPassing\"             \"buildUpPlayPassingClass\"       \n",
       "[11] \"buildUpPlayPositioningClass\"    \"chanceCreationPassing\"         \n",
       "[13] \"chanceCreationPassingClass\"     \"chanceCreationCrossing\"        \n",
       "[15] \"chanceCreationCrossingClass\"    \"chanceCreationShooting\"        \n",
       "[17] \"chanceCreationShootingClass\"    \"chanceCreationPositioningClass\"\n",
       "[19] \"defencePressure\"                \"defencePressureClass\"          \n",
       "[21] \"defenceAggression\"              \"defenceAggressionClass\"        \n",
       "[23] \"defenceTeamWidth\"               \"defenceTeamWidthClass\"         \n",
       "[25] \"defenceDefenderLineClass\"      "
      ]
     },
     "metadata": {},
     "output_type": "display_data"
    }
   ],
   "source": [
    "dbListFields(exampledb, \"Team_Attributes\")"
   ]
  },
  {
   "cell_type": "code",
   "execution_count": 83,
   "metadata": {
    "collapsed": false
   },
   "outputs": [],
   "source": [
    "result_player_df <- dbGetQuery(exampledb, \"SELECT DISTINCT player_name, Player.player_api_id, overall_rating,\n",
    "    (gk_diving + gk_handling +gk_kicking + gk_positioning +gk_reflexes) AS gk_attributes,\n",
    "    COUNT(player_api_id) AS player_appearance,\n",
    "    COUNT(DISTINCT(league_id)) AS league_appearance\n",
    "    FROM Player\n",
    "    INNER JOIN\n",
    "        (SELECT max(overall_rating), *\n",
    "        FROM  Player_Attributes GROUP BY player_api_id)\n",
    "        USING (player_api_id)\n",
    "    INNER JOIN Match \n",
    "        ON home_player_1 = player_api_id OR home_player_2 = player_api_id OR home_player_3 = player_api_id OR\n",
    "        home_player_4 = player_api_id OR home_player_5 = player_api_id OR home_player_6 = player_api_id OR\n",
    "        home_player_7 = player_api_id OR home_player_8 = player_api_id OR home_player_9 = player_api_id OR\n",
    "        home_player_10 = player_api_id OR home_player_11 = player_api_id OR\n",
    "        away_player_1 = player_api_id OR away_player_2 = player_api_id OR away_player_3 = player_api_id OR\n",
    "        away_player_4 = player_api_id OR away_player_5 = player_api_id OR away_player_6 = player_api_id OR\n",
    "        away_player_7 = player_api_id OR away_player_8 = player_api_id OR away_player_9 = player_api_id OR\n",
    "        away_player_10 = player_api_id OR away_player_11 = player_api_id\n",
    "        GROUP BY player_api_id \n",
    ";\")"
   ]
  },
  {
   "cell_type": "code",
   "execution_count": 84,
   "metadata": {
    "collapsed": true
   },
   "outputs": [],
   "source": [
    "write.csv(result_player_df, file = \"player.csv\")"
   ]
  },
  {
   "cell_type": "code",
   "execution_count": 85,
   "metadata": {
    "collapsed": false
   },
   "outputs": [],
   "source": [
    "result_team_df <- dbGetQuery(exampledb, \"SELECT DISTINCT team_long_name, team.team_api_id,\n",
    "        (buildUpPlaySpeed + buildUpPlayDribbling +buildUpPlayPassing) AS buildUp_Attributes, \n",
    "        (chanceCreationPassing + chanceCreationCrossing +chanceCreationShooting) AS chanceCreation_Attributes, \n",
    "        (defencePressure + defenceAggression +defenceTeamWidth) AS defense_Attributes,\n",
    "         sum( CASE WHEN team.team_api_id = home_team_api_id\n",
    "                THEN home_team_goal\n",
    "              WHEN team.team_api_id = away_team_api_id\n",
    "                THEN away_team_goal END) AS scored_goals\n",
    "    FROM team\n",
    "    INNER JOIN\n",
    "        (SELECT *\n",
    "        FROM  Team_Attributes GROUP BY team_api_id)\n",
    "        USING (team_api_id)\n",
    "    INNER JOIN Match\n",
    "        ON home_team_api_id= team_api_id OR\n",
    "            away_team_api_id = team_api_id\n",
    "    GROUP BY team_api_id\n",
    "    ORDER BY scored_goals DESC\n",
    "    LIMIT 10\n",
    "\n",
    ";\")"
   ]
  },
  {
   "cell_type": "code",
   "execution_count": 86,
   "metadata": {
    "collapsed": false
   },
   "outputs": [],
   "source": [
    "write.csv(result_team_df, file = \"team.csv\")"
   ]
  },
  {
   "cell_type": "code",
   "execution_count": null,
   "metadata": {
    "collapsed": true
   },
   "outputs": [],
   "source": []
  }
 ],
 "metadata": {
  "anaconda-cloud": {},
  "kernelspec": {
   "display_name": "R",
   "language": "R",
   "name": "ir"
  },
  "language_info": {
   "codemirror_mode": "r",
   "file_extension": ".r",
   "mimetype": "text/x-r-source",
   "name": "R",
   "pygments_lexer": "r",
   "version": "3.3.2"
  }
 },
 "nbformat": 4,
 "nbformat_minor": 1
}

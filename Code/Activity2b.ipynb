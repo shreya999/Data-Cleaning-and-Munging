{
 "cells": [
  {
   "cell_type": "markdown",
   "metadata": {},
   "source": [
    "To install dplyr package and use it"
   ]
  },
  {
   "cell_type": "code",
   "execution_count": 1,
   "metadata": {
    "collapsed": false
   },
   "outputs": [
    {
     "name": "stderr",
     "output_type": "stream",
     "text": [
      "\n",
      "Attaching package: 'dplyr'\n",
      "\n",
      "The following objects are masked from 'package:stats':\n",
      "\n",
      "    filter, lag\n",
      "\n",
      "The following objects are masked from 'package:base':\n",
      "\n",
      "    intersect, setdiff, setequal, union\n",
      "\n"
     ]
    }
   ],
   "source": [
    "library(dplyr)"
   ]
  },
  {
   "cell_type": "markdown",
   "metadata": {},
   "source": [
    "To install RSQLite package and use it"
   ]
  },
  {
   "cell_type": "code",
   "execution_count": 2,
   "metadata": {
    "collapsed": true
   },
   "outputs": [],
   "source": [
    "library(RSQLite)"
   ]
  },
  {
   "cell_type": "code",
   "execution_count": 58,
   "metadata": {
    "collapsed": true
   },
   "outputs": [],
   "source": [
    "connSQLite = dbConnect(dbDriver(\"SQLite\"),\n",
    "  dbname = \"players_db\")"
   ]
  },
  {
   "cell_type": "markdown",
   "metadata": {},
   "source": [
    "To read the csv files"
   ]
  },
  {
   "cell_type": "code",
   "execution_count": 59,
   "metadata": {
    "collapsed": true
   },
   "outputs": [],
   "source": [
    "player_data<-read.csv(\"player.csv\", header = TRUE)"
   ]
  },
  {
   "cell_type": "code",
   "execution_count": 72,
   "metadata": {
    "collapsed": true
   },
   "outputs": [],
   "source": [
    "team_data<-read.csv(\"team.csv\", header = TRUE)"
   ]
  },
  {
   "cell_type": "code",
   "execution_count": 61,
   "metadata": {
    "collapsed": false
   },
   "outputs": [
    {
     "data": {
      "text/html": [
       "TRUE"
      ],
      "text/latex": [
       "TRUE"
      ],
      "text/markdown": [
       "TRUE"
      ],
      "text/plain": [
       "[1] TRUE"
      ]
     },
     "metadata": {},
     "output_type": "display_data"
    }
   ],
   "source": [
    "dbWriteTable(connSQLite, \"players\", player_data)\n",
    "rm(player_data)"
   ]
  },
  {
   "cell_type": "code",
   "execution_count": 62,
   "metadata": {
    "collapsed": false
   },
   "outputs": [
    {
     "data": {
      "text/html": [
       "TRUE"
      ],
      "text/latex": [
       "TRUE"
      ],
      "text/markdown": [
       "TRUE"
      ],
      "text/plain": [
       "[1] TRUE"
      ]
     },
     "metadata": {},
     "output_type": "display_data"
    }
   ],
   "source": [
    "dbWriteTable(connSQLite, \"teams\", team_data)\n",
    "rm(team_data)"
   ]
  },
  {
   "cell_type": "markdown",
   "metadata": {},
   "source": [
    "To get top 10 players by overall rating"
   ]
  },
  {
   "cell_type": "code",
   "execution_count": 63,
   "metadata": {
    "collapsed": false,
    "scrolled": true
   },
   "outputs": [
    {
     "data": {
      "text/html": [
       "<table>\n",
       "<thead><tr><th scope=col>player_api_id</th><th scope=col>player_name</th><th scope=col>overall_rating</th></tr></thead>\n",
       "<tbody>\n",
       "\t<tr><td>30981            </td><td>Lionel Messi     </td><td>94               </td></tr>\n",
       "\t<tr><td>30717            </td><td>Gianluigi Buffon </td><td>93               </td></tr>\n",
       "\t<tr><td>30829            </td><td>Wayne Rooney     </td><td>93               </td></tr>\n",
       "\t<tr><td>30893            </td><td>Cristiano Ronaldo</td><td>93               </td></tr>\n",
       "\t<tr><td>39854            </td><td>Xavi Hernandez   </td><td>92               </td></tr>\n",
       "\t<tr><td>39989            </td><td>Gregory Coupet   </td><td>92               </td></tr>\n",
       "\t<tr><td>30626            </td><td>Thierry Henry    </td><td>91               </td></tr>\n",
       "\t<tr><td>30627            </td><td>John Terry       </td><td>91               </td></tr>\n",
       "\t<tr><td>30657            </td><td>Iker Casillas    </td><td>91               </td></tr>\n",
       "\t<tr><td>30723            </td><td>Alessandro Nesta </td><td>91               </td></tr>\n",
       "</tbody>\n",
       "</table>\n"
      ],
      "text/latex": [
       "\\begin{tabular}{r|lll}\n",
       " player\\_api\\_id & player\\_name & overall\\_rating\\\\\n",
       "\\hline\n",
       "\t 30981             & Lionel Messi      & 94               \\\\\n",
       "\t 30717             & Gianluigi Buffon  & 93               \\\\\n",
       "\t 30829             & Wayne Rooney      & 93               \\\\\n",
       "\t 30893             & Cristiano Ronaldo & 93               \\\\\n",
       "\t 39854             & Xavi Hernandez    & 92               \\\\\n",
       "\t 39989             & Gregory Coupet    & 92               \\\\\n",
       "\t 30626             & Thierry Henry     & 91               \\\\\n",
       "\t 30627             & John Terry        & 91               \\\\\n",
       "\t 30657             & Iker Casillas     & 91               \\\\\n",
       "\t 30723             & Alessandro Nesta  & 91               \\\\\n",
       "\\end{tabular}\n"
      ],
      "text/markdown": [
       "\n",
       "player_api_id | player_name | overall_rating | \n",
       "|---|---|---|---|---|---|---|---|---|---|\n",
       "| 30981             | Lionel Messi      | 94                | \n",
       "| 30717             | Gianluigi Buffon  | 93                | \n",
       "| 30829             | Wayne Rooney      | 93                | \n",
       "| 30893             | Cristiano Ronaldo | 93                | \n",
       "| 39854             | Xavi Hernandez    | 92                | \n",
       "| 39989             | Gregory Coupet    | 92                | \n",
       "| 30626             | Thierry Henry     | 91                | \n",
       "| 30627             | John Terry        | 91                | \n",
       "| 30657             | Iker Casillas     | 91                | \n",
       "| 30723             | Alessandro Nesta  | 91                | \n",
       "\n",
       "\n"
      ],
      "text/plain": [
       "   player_api_id player_name       overall_rating\n",
       "1  30981         Lionel Messi      94            \n",
       "2  30717         Gianluigi Buffon  93            \n",
       "3  30829         Wayne Rooney      93            \n",
       "4  30893         Cristiano Ronaldo 93            \n",
       "5  39854         Xavi Hernandez    92            \n",
       "6  39989         Gregory Coupet    92            \n",
       "7  30626         Thierry Henry     91            \n",
       "8  30627         John Terry        91            \n",
       "9  30657         Iker Casillas     91            \n",
       "10 30723         Alessandro Nesta  91            "
      ]
     },
     "metadata": {},
     "output_type": "display_data"
    }
   ],
   "source": [
    "dbGetQuery(connSQLite, \"SELECT player_api_id, player_name, overall_rating\n",
    "    FROM players \n",
    "    ORDER BY overall_rating desc\n",
    "    LIMIT 10;\")"
   ]
  },
  {
   "cell_type": "markdown",
   "metadata": {},
   "source": [
    "To get top 10 goalkeepers by sum of gk attributes"
   ]
  },
  {
   "cell_type": "code",
   "execution_count": 64,
   "metadata": {
    "collapsed": false
   },
   "outputs": [
    {
     "data": {
      "text/html": [
       "<table>\n",
       "<thead><tr><th scope=col>player_api_id</th><th scope=col>player_name</th><th scope=col>gk_attributes</th></tr></thead>\n",
       "<tbody>\n",
       "\t<tr><td> 30717           </td><td>Gianluigi Buffon </td><td>449              </td></tr>\n",
       "\t<tr><td> 39989           </td><td>Gregory Coupet   </td><td>447              </td></tr>\n",
       "\t<tr><td> 30859           </td><td>Petr Cech        </td><td>445              </td></tr>\n",
       "\t<tr><td> 30657           </td><td>Iker Casillas    </td><td>442              </td></tr>\n",
       "\t<tr><td> 27299           </td><td>Manuel Neuer     </td><td>440              </td></tr>\n",
       "\t<tr><td> 30989           </td><td>Julio Cesar      </td><td>438              </td></tr>\n",
       "\t<tr><td> 24503           </td><td>Sebastian Frey   </td><td>437              </td></tr>\n",
       "\t<tr><td> 30726           </td><td>Edwin van der Sar</td><td>436              </td></tr>\n",
       "\t<tr><td>182917           </td><td>David De Gea     </td><td>429              </td></tr>\n",
       "\t<tr><td> 30622           </td><td>Paul Robinson    </td><td>426              </td></tr>\n",
       "</tbody>\n",
       "</table>\n"
      ],
      "text/latex": [
       "\\begin{tabular}{r|lll}\n",
       " player\\_api\\_id & player\\_name & gk\\_attributes\\\\\n",
       "\\hline\n",
       "\t  30717            & Gianluigi Buffon  & 449              \\\\\n",
       "\t  39989            & Gregory Coupet    & 447              \\\\\n",
       "\t  30859            & Petr Cech         & 445              \\\\\n",
       "\t  30657            & Iker Casillas     & 442              \\\\\n",
       "\t  27299            & Manuel Neuer      & 440              \\\\\n",
       "\t  30989            & Julio Cesar       & 438              \\\\\n",
       "\t  24503            & Sebastian Frey    & 437              \\\\\n",
       "\t  30726            & Edwin van der Sar & 436              \\\\\n",
       "\t 182917            & David De Gea      & 429              \\\\\n",
       "\t  30622            & Paul Robinson     & 426              \\\\\n",
       "\\end{tabular}\n"
      ],
      "text/markdown": [
       "\n",
       "player_api_id | player_name | gk_attributes | \n",
       "|---|---|---|---|---|---|---|---|---|---|\n",
       "|  30717            | Gianluigi Buffon  | 449               | \n",
       "|  39989            | Gregory Coupet    | 447               | \n",
       "|  30859            | Petr Cech         | 445               | \n",
       "|  30657            | Iker Casillas     | 442               | \n",
       "|  27299            | Manuel Neuer      | 440               | \n",
       "|  30989            | Julio Cesar       | 438               | \n",
       "|  24503            | Sebastian Frey    | 437               | \n",
       "|  30726            | Edwin van der Sar | 436               | \n",
       "| 182917            | David De Gea      | 429               | \n",
       "|  30622            | Paul Robinson     | 426               | \n",
       "\n",
       "\n"
      ],
      "text/plain": [
       "   player_api_id player_name       gk_attributes\n",
       "1   30717        Gianluigi Buffon  449          \n",
       "2   39989        Gregory Coupet    447          \n",
       "3   30859        Petr Cech         445          \n",
       "4   30657        Iker Casillas     442          \n",
       "5   27299        Manuel Neuer      440          \n",
       "6   30989        Julio Cesar       438          \n",
       "7   24503        Sebastian Frey    437          \n",
       "8   30726        Edwin van der Sar 436          \n",
       "9  182917        David De Gea      429          \n",
       "10  30622        Paul Robinson     426          "
      ]
     },
     "metadata": {},
     "output_type": "display_data"
    }
   ],
   "source": [
    "dbGetQuery(connSQLite, \"SELECT player_api_id, player_name, gk_attributes \n",
    "    FROM players \n",
    "    ORDER BY gk_attributes DESC\n",
    "    LIMIT 10;\")"
   ]
  },
  {
   "cell_type": "markdown",
   "metadata": {},
   "source": [
    "To get top 10 players by number of appearances (with any team they played with)"
   ]
  },
  {
   "cell_type": "code",
   "execution_count": 65,
   "metadata": {
    "collapsed": false
   },
   "outputs": [
    {
     "data": {
      "text/html": [
       "<table>\n",
       "<thead><tr><th scope=col>player_api_id</th><th scope=col>player_name</th><th scope=col>player_appearance</th></tr></thead>\n",
       "<tbody>\n",
       "\t<tr><td>31293               </td><td>Steve Mandanda      </td><td>300                 </td></tr>\n",
       "\t<tr><td>41097               </td><td>Stephane Ruffier    </td><td>294                 </td></tr>\n",
       "\t<tr><td>33764               </td><td>Gorka Iraizoz Moreno</td><td>286                 </td></tr>\n",
       "\t<tr><td>42422               </td><td>Samir Handanovic    </td><td>286                 </td></tr>\n",
       "\t<tr><td>26295               </td><td>Hugo Lloris         </td><td>282                 </td></tr>\n",
       "\t<tr><td>31465               </td><td>Tim Howard          </td><td>282                 </td></tr>\n",
       "\t<tr><td>31432               </td><td>Joe Hart            </td><td>275                 </td></tr>\n",
       "\t<tr><td>26168               </td><td>Cedric Carrasso     </td><td>268                 </td></tr>\n",
       "\t<tr><td>26399               </td><td>Daniel Congre       </td><td>262                 </td></tr>\n",
       "\t<tr><td>94550               </td><td>Moussa Sissoko      </td><td>260                 </td></tr>\n",
       "</tbody>\n",
       "</table>\n"
      ],
      "text/latex": [
       "\\begin{tabular}{r|lll}\n",
       " player\\_api\\_id & player\\_name & player\\_appearance\\\\\n",
       "\\hline\n",
       "\t 31293                & Steve Mandanda       & 300                 \\\\\n",
       "\t 41097                & Stephane Ruffier     & 294                 \\\\\n",
       "\t 33764                & Gorka Iraizoz Moreno & 286                 \\\\\n",
       "\t 42422                & Samir Handanovic     & 286                 \\\\\n",
       "\t 26295                & Hugo Lloris          & 282                 \\\\\n",
       "\t 31465                & Tim Howard           & 282                 \\\\\n",
       "\t 31432                & Joe Hart             & 275                 \\\\\n",
       "\t 26168                & Cedric Carrasso      & 268                 \\\\\n",
       "\t 26399                & Daniel Congre        & 262                 \\\\\n",
       "\t 94550                & Moussa Sissoko       & 260                 \\\\\n",
       "\\end{tabular}\n"
      ],
      "text/markdown": [
       "\n",
       "player_api_id | player_name | player_appearance | \n",
       "|---|---|---|---|---|---|---|---|---|---|\n",
       "| 31293                | Steve Mandanda       | 300                  | \n",
       "| 41097                | Stephane Ruffier     | 294                  | \n",
       "| 33764                | Gorka Iraizoz Moreno | 286                  | \n",
       "| 42422                | Samir Handanovic     | 286                  | \n",
       "| 26295                | Hugo Lloris          | 282                  | \n",
       "| 31465                | Tim Howard           | 282                  | \n",
       "| 31432                | Joe Hart             | 275                  | \n",
       "| 26168                | Cedric Carrasso      | 268                  | \n",
       "| 26399                | Daniel Congre        | 262                  | \n",
       "| 94550                | Moussa Sissoko       | 260                  | \n",
       "\n",
       "\n"
      ],
      "text/plain": [
       "   player_api_id player_name          player_appearance\n",
       "1  31293         Steve Mandanda       300              \n",
       "2  41097         Stephane Ruffier     294              \n",
       "3  33764         Gorka Iraizoz Moreno 286              \n",
       "4  42422         Samir Handanovic     286              \n",
       "5  26295         Hugo Lloris          282              \n",
       "6  31465         Tim Howard           282              \n",
       "7  31432         Joe Hart             275              \n",
       "8  26168         Cedric Carrasso      268              \n",
       "9  26399         Daniel Congre        262              \n",
       "10 94550         Moussa Sissoko       260              "
      ]
     },
     "metadata": {},
     "output_type": "display_data"
    }
   ],
   "source": [
    "dbGetQuery(connSQLite, \"SELECT player_api_id, player_name, player_appearance \n",
    "    FROM players \n",
    "    ORDER BY player_appearance DESC\n",
    "    LIMIT 10;\")"
   ]
  },
  {
   "cell_type": "markdown",
   "metadata": {},
   "source": [
    "To get top 10 players by number of leagues they played in"
   ]
  },
  {
   "cell_type": "code",
   "execution_count": 66,
   "metadata": {
    "collapsed": false
   },
   "outputs": [
    {
     "data": {
      "text/html": [
       "<table>\n",
       "<thead><tr><th scope=col>player_api_id</th><th scope=col>player_name</th><th scope=col>league_appearance</th></tr></thead>\n",
       "<tbody>\n",
       "\t<tr><td> 42119               </td><td>Gelson Fernandes     </td><td>6                    </td></tr>\n",
       "\t<tr><td>116750               </td><td>Ricky van Wolfswinkel</td><td>5                    </td></tr>\n",
       "\t<tr><td>178538               </td><td>Filip Djuricic       </td><td>5                    </td></tr>\n",
       "\t<tr><td> 22543               </td><td>Radamel Falcao       </td><td>4                    </td></tr>\n",
       "\t<tr><td> 24123               </td><td>Jonathan De Guzman   </td><td>4                    </td></tr>\n",
       "\t<tr><td> 25816               </td><td>Almen Abdi           </td><td>4                    </td></tr>\n",
       "\t<tr><td> 26434               </td><td>Ibrahim Afellay      </td><td>4                    </td></tr>\n",
       "\t<tr><td> 26489               </td><td>Edson Braafheid      </td><td>4                    </td></tr>\n",
       "\t<tr><td> 26675               </td><td>Eljero Elia          </td><td>4                    </td></tr>\n",
       "\t<tr><td> 30477               </td><td>Danijel Pranjic      </td><td>4                    </td></tr>\n",
       "</tbody>\n",
       "</table>\n"
      ],
      "text/latex": [
       "\\begin{tabular}{r|lll}\n",
       " player\\_api\\_id & player\\_name & league\\_appearance\\\\\n",
       "\\hline\n",
       "\t  42119                & Gelson Fernandes      & 6                    \\\\\n",
       "\t 116750                & Ricky van Wolfswinkel & 5                    \\\\\n",
       "\t 178538                & Filip Djuricic        & 5                    \\\\\n",
       "\t  22543                & Radamel Falcao        & 4                    \\\\\n",
       "\t  24123                & Jonathan De Guzman    & 4                    \\\\\n",
       "\t  25816                & Almen Abdi            & 4                    \\\\\n",
       "\t  26434                & Ibrahim Afellay       & 4                    \\\\\n",
       "\t  26489                & Edson Braafheid       & 4                    \\\\\n",
       "\t  26675                & Eljero Elia           & 4                    \\\\\n",
       "\t  30477                & Danijel Pranjic       & 4                    \\\\\n",
       "\\end{tabular}\n"
      ],
      "text/markdown": [
       "\n",
       "player_api_id | player_name | league_appearance | \n",
       "|---|---|---|---|---|---|---|---|---|---|\n",
       "|  42119                | Gelson Fernandes      | 6                     | \n",
       "| 116750                | Ricky van Wolfswinkel | 5                     | \n",
       "| 178538                | Filip Djuricic        | 5                     | \n",
       "|  22543                | Radamel Falcao        | 4                     | \n",
       "|  24123                | Jonathan De Guzman    | 4                     | \n",
       "|  25816                | Almen Abdi            | 4                     | \n",
       "|  26434                | Ibrahim Afellay       | 4                     | \n",
       "|  26489                | Edson Braafheid       | 4                     | \n",
       "|  26675                | Eljero Elia           | 4                     | \n",
       "|  30477                | Danijel Pranjic       | 4                     | \n",
       "\n",
       "\n"
      ],
      "text/plain": [
       "   player_api_id player_name           league_appearance\n",
       "1   42119        Gelson Fernandes      6                \n",
       "2  116750        Ricky van Wolfswinkel 5                \n",
       "3  178538        Filip Djuricic        5                \n",
       "4   22543        Radamel Falcao        4                \n",
       "5   24123        Jonathan De Guzman    4                \n",
       "6   25816        Almen Abdi            4                \n",
       "7   26434        Ibrahim Afellay       4                \n",
       "8   26489        Edson Braafheid       4                \n",
       "9   26675        Eljero Elia           4                \n",
       "10  30477        Danijel Pranjic       4                "
      ]
     },
     "metadata": {},
     "output_type": "display_data"
    }
   ],
   "source": [
    "dbGetQuery(connSQLite, \"SELECT player_api_id, player_name, league_appearance \n",
    "    FROM players \n",
    "    ORDER BY league_appearance DESC\n",
    "    LIMIT 10;\")"
   ]
  },
  {
   "cell_type": "markdown",
   "metadata": {},
   "source": [
    "To get top 10 teams by sum of build up play attributes"
   ]
  },
  {
   "cell_type": "code",
   "execution_count": 67,
   "metadata": {
    "collapsed": false
   },
   "outputs": [
    {
     "data": {
      "text/html": [
       "<table>\n",
       "<thead><tr><th scope=col>team_api_id</th><th scope=col>team_long_name</th><th scope=col>buildUp_Attributes</th></tr></thead>\n",
       "<tbody>\n",
       "\t<tr><td> 9931            </td><td>FC Basel         </td><td>170              </td></tr>\n",
       "\t<tr><td> 9925            </td><td>Celtic           </td><td>156              </td></tr>\n",
       "\t<tr><td> 8633            </td><td>Real Madrid CF   </td><td>153              </td></tr>\n",
       "\t<tr><td> 8640            </td><td>PSV              </td><td>153              </td></tr>\n",
       "\t<tr><td> 8455            </td><td>Chelsea          </td><td>144              </td></tr>\n",
       "\t<tr><td>10260            </td><td>Manchester United</td><td>124              </td></tr>\n",
       "\t<tr><td> 8456            </td><td>Manchester City  </td><td>123              </td></tr>\n",
       "\t<tr><td> 8634            </td><td>FC Barcelona     </td><td>122              </td></tr>\n",
       "\t<tr><td> 8593            </td><td>Ajax             </td><td>117              </td></tr>\n",
       "\t<tr><td> 9823            </td><td>FC Bayern Munich </td><td> 97              </td></tr>\n",
       "</tbody>\n",
       "</table>\n"
      ],
      "text/latex": [
       "\\begin{tabular}{r|lll}\n",
       " team\\_api\\_id & team\\_long\\_name & buildUp\\_Attributes\\\\\n",
       "\\hline\n",
       "\t  9931             & FC Basel          & 170              \\\\\n",
       "\t  9925             & Celtic            & 156              \\\\\n",
       "\t  8633             & Real Madrid CF    & 153              \\\\\n",
       "\t  8640             & PSV               & 153              \\\\\n",
       "\t  8455             & Chelsea           & 144              \\\\\n",
       "\t 10260             & Manchester United & 124              \\\\\n",
       "\t  8456             & Manchester City   & 123              \\\\\n",
       "\t  8634             & FC Barcelona      & 122              \\\\\n",
       "\t  8593             & Ajax              & 117              \\\\\n",
       "\t  9823             & FC Bayern Munich  &  97              \\\\\n",
       "\\end{tabular}\n"
      ],
      "text/markdown": [
       "\n",
       "team_api_id | team_long_name | buildUp_Attributes | \n",
       "|---|---|---|---|---|---|---|---|---|---|\n",
       "|  9931             | FC Basel          | 170               | \n",
       "|  9925             | Celtic            | 156               | \n",
       "|  8633             | Real Madrid CF    | 153               | \n",
       "|  8640             | PSV               | 153               | \n",
       "|  8455             | Chelsea           | 144               | \n",
       "| 10260             | Manchester United | 124               | \n",
       "|  8456             | Manchester City   | 123               | \n",
       "|  8634             | FC Barcelona      | 122               | \n",
       "|  8593             | Ajax              | 117               | \n",
       "|  9823             | FC Bayern Munich  |  97               | \n",
       "\n",
       "\n"
      ],
      "text/plain": [
       "   team_api_id team_long_name    buildUp_Attributes\n",
       "1   9931       FC Basel          170               \n",
       "2   9925       Celtic            156               \n",
       "3   8633       Real Madrid CF    153               \n",
       "4   8640       PSV               153               \n",
       "5   8455       Chelsea           144               \n",
       "6  10260       Manchester United 124               \n",
       "7   8456       Manchester City   123               \n",
       "8   8634       FC Barcelona      122               \n",
       "9   8593       Ajax              117               \n",
       "10  9823       FC Bayern Munich   97               "
      ]
     },
     "metadata": {},
     "output_type": "display_data"
    }
   ],
   "source": [
    "dbGetQuery(connSQLite, \"SELECT team_api_id, team_long_name, buildUp_Attributes \n",
    "    FROM teams \n",
    "    ORDER BY buildUp_Attributes DESC\n",
    "    LIMIT 10;\")"
   ]
  },
  {
   "cell_type": "markdown",
   "metadata": {},
   "source": [
    "To get top 10 teams by sum of chance creation attributes"
   ]
  },
  {
   "cell_type": "code",
   "execution_count": 68,
   "metadata": {
    "collapsed": false
   },
   "outputs": [
    {
     "data": {
      "text/html": [
       "<table>\n",
       "<thead><tr><th scope=col>team_api_id</th><th scope=col>team_long_name</th><th scope=col>chanceCreation_Attributes</th></tr></thead>\n",
       "<tbody>\n",
       "\t<tr><td> 9931            </td><td>FC Basel         </td><td>186              </td></tr>\n",
       "\t<tr><td> 8633            </td><td>Real Madrid CF   </td><td>165              </td></tr>\n",
       "\t<tr><td> 9925            </td><td>Celtic           </td><td>164              </td></tr>\n",
       "\t<tr><td> 8593            </td><td>Ajax             </td><td>143              </td></tr>\n",
       "\t<tr><td> 8634            </td><td>FC Barcelona     </td><td>141              </td></tr>\n",
       "\t<tr><td>10260            </td><td>Manchester United</td><td>133              </td></tr>\n",
       "\t<tr><td> 8640            </td><td>PSV              </td><td>125              </td></tr>\n",
       "\t<tr><td> 8455            </td><td>Chelsea          </td><td>119              </td></tr>\n",
       "\t<tr><td> 8456            </td><td>Manchester City  </td><td> 98              </td></tr>\n",
       "\t<tr><td> 9823            </td><td>FC Bayern Munich </td><td> 90              </td></tr>\n",
       "</tbody>\n",
       "</table>\n"
      ],
      "text/latex": [
       "\\begin{tabular}{r|lll}\n",
       " team\\_api\\_id & team\\_long\\_name & chanceCreation\\_Attributes\\\\\n",
       "\\hline\n",
       "\t  9931             & FC Basel          & 186              \\\\\n",
       "\t  8633             & Real Madrid CF    & 165              \\\\\n",
       "\t  9925             & Celtic            & 164              \\\\\n",
       "\t  8593             & Ajax              & 143              \\\\\n",
       "\t  8634             & FC Barcelona      & 141              \\\\\n",
       "\t 10260             & Manchester United & 133              \\\\\n",
       "\t  8640             & PSV               & 125              \\\\\n",
       "\t  8455             & Chelsea           & 119              \\\\\n",
       "\t  8456             & Manchester City   &  98              \\\\\n",
       "\t  9823             & FC Bayern Munich  &  90              \\\\\n",
       "\\end{tabular}\n"
      ],
      "text/markdown": [
       "\n",
       "team_api_id | team_long_name | chanceCreation_Attributes | \n",
       "|---|---|---|---|---|---|---|---|---|---|\n",
       "|  9931             | FC Basel          | 186               | \n",
       "|  8633             | Real Madrid CF    | 165               | \n",
       "|  9925             | Celtic            | 164               | \n",
       "|  8593             | Ajax              | 143               | \n",
       "|  8634             | FC Barcelona      | 141               | \n",
       "| 10260             | Manchester United | 133               | \n",
       "|  8640             | PSV               | 125               | \n",
       "|  8455             | Chelsea           | 119               | \n",
       "|  8456             | Manchester City   |  98               | \n",
       "|  9823             | FC Bayern Munich  |  90               | \n",
       "\n",
       "\n"
      ],
      "text/plain": [
       "   team_api_id team_long_name    chanceCreation_Attributes\n",
       "1   9931       FC Basel          186                      \n",
       "2   8633       Real Madrid CF    165                      \n",
       "3   9925       Celtic            164                      \n",
       "4   8593       Ajax              143                      \n",
       "5   8634       FC Barcelona      141                      \n",
       "6  10260       Manchester United 133                      \n",
       "7   8640       PSV               125                      \n",
       "8   8455       Chelsea           119                      \n",
       "9   8456       Manchester City    98                      \n",
       "10  9823       FC Bayern Munich   90                      "
      ]
     },
     "metadata": {},
     "output_type": "display_data"
    }
   ],
   "source": [
    "dbGetQuery(connSQLite, \"SELECT team_api_id, team_long_name, chanceCreation_Attributes\n",
    "    FROM teams \n",
    "    ORDER BY chanceCreation_Attributes DESC\n",
    "    LIMIT 10;\")"
   ]
  },
  {
   "cell_type": "markdown",
   "metadata": {},
   "source": [
    "To get top 10 teams by sum of defense attributes"
   ]
  },
  {
   "cell_type": "code",
   "execution_count": 69,
   "metadata": {
    "collapsed": false
   },
   "outputs": [
    {
     "data": {
      "text/html": [
       "<table>\n",
       "<thead><tr><th scope=col>team_api_id</th><th scope=col>team_long_name</th><th scope=col>defense_Attributes</th></tr></thead>\n",
       "<tbody>\n",
       "\t<tr><td> 8634            </td><td>FC Barcelona     </td><td>191              </td></tr>\n",
       "\t<tr><td> 9823            </td><td>FC Bayern Munich </td><td>184              </td></tr>\n",
       "\t<tr><td> 8593            </td><td>Ajax             </td><td>176              </td></tr>\n",
       "\t<tr><td> 8633            </td><td>Real Madrid CF   </td><td>175              </td></tr>\n",
       "\t<tr><td> 9925            </td><td>Celtic           </td><td>169              </td></tr>\n",
       "\t<tr><td>10260            </td><td>Manchester United</td><td>163              </td></tr>\n",
       "\t<tr><td> 9931            </td><td>FC Basel         </td><td>158              </td></tr>\n",
       "\t<tr><td> 8456            </td><td>Manchester City  </td><td>149              </td></tr>\n",
       "\t<tr><td> 8640            </td><td>PSV              </td><td>128              </td></tr>\n",
       "\t<tr><td> 8455            </td><td>Chelsea          </td><td>126              </td></tr>\n",
       "</tbody>\n",
       "</table>\n"
      ],
      "text/latex": [
       "\\begin{tabular}{r|lll}\n",
       " team\\_api\\_id & team\\_long\\_name & defense\\_Attributes\\\\\n",
       "\\hline\n",
       "\t  8634             & FC Barcelona      & 191              \\\\\n",
       "\t  9823             & FC Bayern Munich  & 184              \\\\\n",
       "\t  8593             & Ajax              & 176              \\\\\n",
       "\t  8633             & Real Madrid CF    & 175              \\\\\n",
       "\t  9925             & Celtic            & 169              \\\\\n",
       "\t 10260             & Manchester United & 163              \\\\\n",
       "\t  9931             & FC Basel          & 158              \\\\\n",
       "\t  8456             & Manchester City   & 149              \\\\\n",
       "\t  8640             & PSV               & 128              \\\\\n",
       "\t  8455             & Chelsea           & 126              \\\\\n",
       "\\end{tabular}\n"
      ],
      "text/markdown": [
       "\n",
       "team_api_id | team_long_name | defense_Attributes | \n",
       "|---|---|---|---|---|---|---|---|---|---|\n",
       "|  8634             | FC Barcelona      | 191               | \n",
       "|  9823             | FC Bayern Munich  | 184               | \n",
       "|  8593             | Ajax              | 176               | \n",
       "|  8633             | Real Madrid CF    | 175               | \n",
       "|  9925             | Celtic            | 169               | \n",
       "| 10260             | Manchester United | 163               | \n",
       "|  9931             | FC Basel          | 158               | \n",
       "|  8456             | Manchester City   | 149               | \n",
       "|  8640             | PSV               | 128               | \n",
       "|  8455             | Chelsea           | 126               | \n",
       "\n",
       "\n"
      ],
      "text/plain": [
       "   team_api_id team_long_name    defense_Attributes\n",
       "1   8634       FC Barcelona      191               \n",
       "2   9823       FC Bayern Munich  184               \n",
       "3   8593       Ajax              176               \n",
       "4   8633       Real Madrid CF    175               \n",
       "5   9925       Celtic            169               \n",
       "6  10260       Manchester United 163               \n",
       "7   9931       FC Basel          158               \n",
       "8   8456       Manchester City   149               \n",
       "9   8640       PSV               128               \n",
       "10  8455       Chelsea           126               "
      ]
     },
     "metadata": {},
     "output_type": "display_data"
    }
   ],
   "source": [
    "dbGetQuery(connSQLite, \"SELECT team_api_id, team_long_name, defense_Attributes \n",
    "    FROM teams \n",
    "    ORDER BY defense_Attributes DESC\n",
    "    LIMIT 10;\")"
   ]
  },
  {
   "cell_type": "markdown",
   "metadata": {},
   "source": [
    "To get top 10 teams by number of fielded players (i.e. number of players the team has sent to the field across all matches)"
   ]
  },
  {
   "cell_type": "code",
   "execution_count": 71,
   "metadata": {
    "collapsed": false
   },
   "outputs": [
    {
     "data": {
      "text/html": [
       "<table>\n",
       "<thead><tr><th scope=col>team_api_id</th><th scope=col>team_long_name</th><th scope=col>scored_goals</th></tr></thead>\n",
       "<tbody>\n",
       "\t<tr><td> 8634            </td><td>FC Barcelona     </td><td>849              </td></tr>\n",
       "\t<tr><td> 8633            </td><td>Real Madrid CF   </td><td>843              </td></tr>\n",
       "\t<tr><td> 9925            </td><td>Celtic           </td><td>695              </td></tr>\n",
       "\t<tr><td> 9823            </td><td>FC Bayern Munich </td><td>653              </td></tr>\n",
       "\t<tr><td> 8640            </td><td>PSV              </td><td>652              </td></tr>\n",
       "\t<tr><td> 8593            </td><td>Ajax             </td><td>647              </td></tr>\n",
       "\t<tr><td> 9931            </td><td>FC Basel         </td><td>619              </td></tr>\n",
       "\t<tr><td> 8456            </td><td>Manchester City  </td><td>606              </td></tr>\n",
       "\t<tr><td> 8455            </td><td>Chelsea          </td><td>583              </td></tr>\n",
       "\t<tr><td>10260            </td><td>Manchester United</td><td>582              </td></tr>\n",
       "</tbody>\n",
       "</table>\n"
      ],
      "text/latex": [
       "\\begin{tabular}{r|lll}\n",
       " team\\_api\\_id & team\\_long\\_name & scored\\_goals\\\\\n",
       "\\hline\n",
       "\t  8634             & FC Barcelona      & 849              \\\\\n",
       "\t  8633             & Real Madrid CF    & 843              \\\\\n",
       "\t  9925             & Celtic            & 695              \\\\\n",
       "\t  9823             & FC Bayern Munich  & 653              \\\\\n",
       "\t  8640             & PSV               & 652              \\\\\n",
       "\t  8593             & Ajax              & 647              \\\\\n",
       "\t  9931             & FC Basel          & 619              \\\\\n",
       "\t  8456             & Manchester City   & 606              \\\\\n",
       "\t  8455             & Chelsea           & 583              \\\\\n",
       "\t 10260             & Manchester United & 582              \\\\\n",
       "\\end{tabular}\n"
      ],
      "text/markdown": [
       "\n",
       "team_api_id | team_long_name | scored_goals | \n",
       "|---|---|---|---|---|---|---|---|---|---|\n",
       "|  8634             | FC Barcelona      | 849               | \n",
       "|  8633             | Real Madrid CF    | 843               | \n",
       "|  9925             | Celtic            | 695               | \n",
       "|  9823             | FC Bayern Munich  | 653               | \n",
       "|  8640             | PSV               | 652               | \n",
       "|  8593             | Ajax              | 647               | \n",
       "|  9931             | FC Basel          | 619               | \n",
       "|  8456             | Manchester City   | 606               | \n",
       "|  8455             | Chelsea           | 583               | \n",
       "| 10260             | Manchester United | 582               | \n",
       "\n",
       "\n"
      ],
      "text/plain": [
       "   team_api_id team_long_name    scored_goals\n",
       "1   8634       FC Barcelona      849         \n",
       "2   8633       Real Madrid CF    843         \n",
       "3   9925       Celtic            695         \n",
       "4   9823       FC Bayern Munich  653         \n",
       "5   8640       PSV               652         \n",
       "6   8593       Ajax              647         \n",
       "7   9931       FC Basel          619         \n",
       "8   8456       Manchester City   606         \n",
       "9   8455       Chelsea           583         \n",
       "10 10260       Manchester United 582         "
      ]
     },
     "metadata": {},
     "output_type": "display_data"
    }
   ],
   "source": [
    "dbGetQuery(connSQLite, \"SELECT team_api_id, team_long_name, scored_goals \n",
    "    FROM teams \n",
    "    ORDER BY scored_goals DESC\n",
    "    LIMIT 10;\")"
   ]
  },
  {
   "cell_type": "code",
   "execution_count": null,
   "metadata": {
    "collapsed": true
   },
   "outputs": [],
   "source": []
  }
 ],
 "metadata": {
  "anaconda-cloud": {},
  "kernelspec": {
   "display_name": "R",
   "language": "R",
   "name": "ir"
  },
  "language_info": {
   "codemirror_mode": "r",
   "file_extension": ".r",
   "mimetype": "text/x-r-source",
   "name": "R",
   "pygments_lexer": "r",
   "version": "3.3.2"
  }
 },
 "nbformat": 4,
 "nbformat_minor": 1
}
